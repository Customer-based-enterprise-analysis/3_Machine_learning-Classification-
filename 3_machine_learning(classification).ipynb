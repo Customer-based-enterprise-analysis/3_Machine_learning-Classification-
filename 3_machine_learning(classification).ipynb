{
 "cells": [
  {
   "cell_type": "markdown",
   "metadata": {},
   "source": [
    "## 수정 필요\n",
    "1. validation 후 best parameter 적용한 모델로 test dataset 분석\n",
    "2. test시에도 train data는 validation data 제외하도록 수정"
   ]
  },
  {
   "cell_type": "code",
   "execution_count": 8,
   "metadata": {
    "colab": {
     "base_uri": "https://localhost:8080/"
    },
    "executionInfo": {
     "elapsed": 11814,
     "status": "ok",
     "timestamp": 1650732680925,
     "user": {
      "displayName": "조현정",
      "userId": "02569453026248958222"
     },
     "user_tz": -540
    },
    "id": "aEYuH8YhVZF0",
    "outputId": "2a92c82a-de07-4082-8383-e1962bb45180"
   },
   "outputs": [
    {
     "name": "stdout",
     "output_type": "stream",
     "text": [
      "Reading package lists... Done\n",
      "Building dependency tree       \n",
      "Reading state information... Done\n",
      "The following NEW packages will be installed:\n",
      "  fonts-nanum\n",
      "0 upgraded, 1 newly installed, 0 to remove and 40 not upgraded.\n",
      "Need to get 9,604 kB of archives.\n",
      "After this operation, 29.5 MB of additional disk space will be used.\n",
      "Get:1 http://archive.ubuntu.com/ubuntu bionic/universe amd64 fonts-nanum all 20170925-1 [9,604 kB]\n",
      "Fetched 9,604 kB in 1s (9,734 kB/s)\n",
      "debconf: unable to initialize frontend: Dialog\n",
      "debconf: (No usable dialog-like program is installed, so the dialog based frontend cannot be used. at /usr/share/perl5/Debconf/FrontEnd/Dialog.pm line 76, <> line 1.)\n",
      "debconf: falling back to frontend: Readline\n",
      "debconf: unable to initialize frontend: Readline\n",
      "debconf: (This frontend requires a controlling tty.)\n",
      "debconf: falling back to frontend: Teletype\n",
      "dpkg-preconfigure: unable to re-open stdin: \n",
      "Selecting previously unselected package fonts-nanum.\n",
      "(Reading database ... 155501 files and directories currently installed.)\n",
      "Preparing to unpack .../fonts-nanum_20170925-1_all.deb ...\n",
      "Unpacking fonts-nanum (20170925-1) ...\n",
      "Setting up fonts-nanum (20170925-1) ...\n",
      "Processing triggers for fontconfig (2.12.6-0ubuntu2) ...\n",
      "/usr/share/fonts: caching, new cache contents: 0 fonts, 1 dirs\n",
      "/usr/share/fonts/truetype: caching, new cache contents: 0 fonts, 3 dirs\n",
      "/usr/share/fonts/truetype/humor-sans: caching, new cache contents: 1 fonts, 0 dirs\n",
      "/usr/share/fonts/truetype/liberation: caching, new cache contents: 16 fonts, 0 dirs\n",
      "/usr/share/fonts/truetype/nanum: caching, new cache contents: 10 fonts, 0 dirs\n",
      "/usr/local/share/fonts: caching, new cache contents: 0 fonts, 0 dirs\n",
      "/root/.local/share/fonts: skipping, no such directory\n",
      "/root/.fonts: skipping, no such directory\n",
      "/var/cache/fontconfig: cleaning cache directory\n",
      "/root/.cache/fontconfig: not cleaning non-existent cache directory\n",
      "/root/.fontconfig: not cleaning non-existent cache directory\n",
      "fc-cache: succeeded\n"
     ]
    }
   ],
   "source": [
    "# 한글 폰트 설치\n",
    "!sudo apt-get install -y fonts-nanum\n",
    "!sudo fc-cache -fv\n",
    "!rm ~/.cache/matplotlib -rf"
   ]
  },
  {
   "cell_type": "code",
   "execution_count": 1,
   "metadata": {
    "colab": {
     "base_uri": "https://localhost:8080/"
    },
    "executionInfo": {
     "elapsed": 9796,
     "status": "ok",
     "timestamp": 1650732538391,
     "user": {
      "displayName": "조현정",
      "userId": "02569453026248958222"
     },
     "user_tz": -540
    },
    "id": "L2PTFsO2U27N",
    "outputId": "b3351b67-19e6-40c8-a770-3316bfd4f994"
   },
   "outputs": [
    {
     "name": "stdout",
     "output_type": "stream",
     "text": [
      "Requirement already satisfied: gtts in c:\\anaconda3\\envs\\cakd3\\lib\\site-packages (2.2.3)\n",
      "Requirement already satisfied: click in c:\\anaconda3\\envs\\cakd3\\lib\\site-packages (from gtts) (8.0.1)\n",
      "Requirement already satisfied: requests in c:\\anaconda3\\envs\\cakd3\\lib\\site-packages (from gtts) (2.25.1)\n",
      "Requirement already satisfied: six in c:\\anaconda3\\envs\\cakd3\\lib\\site-packages (from gtts) (1.16.0)\n",
      "Requirement already satisfied: colorama in c:\\anaconda3\\envs\\cakd3\\lib\\site-packages (from click->gtts) (0.4.4)\n",
      "Requirement already satisfied: certifi>=2017.4.17 in c:\\anaconda3\\envs\\cakd3\\lib\\site-packages (from requests->gtts) (2021.5.30)\n",
      "Requirement already satisfied: idna<3,>=2.5 in c:\\anaconda3\\envs\\cakd3\\lib\\site-packages (from requests->gtts) (2.10)\n",
      "Requirement already satisfied: urllib3<1.27,>=1.21.1 in c:\\anaconda3\\envs\\cakd3\\lib\\site-packages (from requests->gtts) (1.26.4)\n",
      "Requirement already satisfied: chardet<5,>=3.0.2 in c:\\anaconda3\\envs\\cakd3\\lib\\site-packages (from requests->gtts) (3.0.4)\n",
      "Note: you may need to restart the kernel to use updated packages.\n"
     ]
    },
    {
     "name": "stderr",
     "output_type": "stream",
     "text": [
      "WARNING: You are using pip version 21.3; however, version 22.0.4 is available.\n",
      "You should consider upgrading via the 'C:\\anaconda3\\envs\\cakd3\\python.exe -m pip install --upgrade pip' command.\n"
     ]
    }
   ],
   "source": [
    "pip install gtts"
   ]
  },
  {
   "cell_type": "code",
   "execution_count": 1,
   "metadata": {
    "colab": {
     "base_uri": "https://localhost:8080/"
    },
    "executionInfo": {
     "elapsed": 2235,
     "status": "ok",
     "timestamp": 1650732554339,
     "user": {
      "displayName": "조현정",
      "userId": "02569453026248958222"
     },
     "user_tz": -540
    },
    "id": "R0mJZWf7UnTV",
    "outputId": "6fb6d0e9-e396-4f68-a283-a7b1da9c3d3a"
   },
   "outputs": [
    {
     "name": "stdout",
     "output_type": "stream",
     "text": [
      "Drive already mounted at /content/drive; to attempt to forcibly remount, call drive.mount(\"/content/drive\", force_remount=True).\n"
     ]
    }
   ],
   "source": [
    "# 드라이브 마운트\n",
    "from google.colab import drive\n",
    "drive.mount('/content/drive')"
   ]
  },
  {
   "cell_type": "code",
   "execution_count": 2,
   "metadata": {
    "executionInfo": {
     "elapsed": 9,
     "status": "aborted",
     "timestamp": 1650733194679,
     "user": {
      "displayName": "조현정",
      "userId": "02569453026248958222"
     },
     "user_tz": -540
    },
    "id": "ZJn-FFssUqK1"
   },
   "outputs": [],
   "source": [
    "import pandas as pd\n",
    "from gtts import gTTS\n",
    "import os \n",
    "from IPython.display import Audio\n",
    "import warnings\n",
    "warnings.filterwarnings('ignore')\n",
    "\n",
    "def speak(text):\n",
    "    tts = gTTS(text=text, lang='ko') \n",
    "    filename='voice.mp3' \n",
    "    tts.save(filename)\n",
    "    display(Audio(filename, autoplay=True))\n",
    "    os.remove(filename)"
   ]
  },
  {
   "cell_type": "code",
   "execution_count": 2,
   "metadata": {
    "colab": {
     "base_uri": "https://localhost:8080/"
    },
    "executionInfo": {
     "elapsed": 6,
     "status": "ok",
     "timestamp": 1650732692338,
     "user": {
      "displayName": "조현정",
      "userId": "02569453026248958222"
     },
     "user_tz": -540
    },
    "id": "wqiThgFPLDZq",
    "outputId": "5d1c1f0c-2301-42dc-810a-454bcfeaa02b"
   },
   "outputs": [
    {
     "name": "stdout",
     "output_type": "stream",
     "text": [
      "/content/drive/MyDrive/Cakd3_Project/1.ldata_현정\n"
     ]
    }
   ],
   "source": [
    "# change directory\n",
    "%cd /content/drive/MyDrive/Cakd3_Project/1.ldata_현정"
   ]
  },
  {
   "cell_type": "code",
   "execution_count": 3,
   "metadata": {
    "executionInfo": {
     "elapsed": 383,
     "status": "ok",
     "timestamp": 1650732692717,
     "user": {
      "displayName": "조현정",
      "userId": "02569453026248958222"
     },
     "user_tz": -540
    },
    "id": "9RkYQ0ixLVMy"
   },
   "outputs": [],
   "source": [
    "# 데이터셋 불러오기\n",
    "dataset1 = pd.read_csv('./full_dataset1.csv', index_col=0)\n",
    "dataset2 = pd.read_csv('./full_dataset2.csv', index_col=0)"
   ]
  },
  {
   "cell_type": "code",
   "execution_count": 14,
   "metadata": {
    "executionInfo": {
     "elapsed": 882,
     "status": "ok",
     "timestamp": 1650732693596,
     "user": {
      "displayName": "조현정",
      "userId": "02569453026248958222"
     },
     "user_tz": -540
    },
    "id": "gg0t2idRLndR"
   },
   "outputs": [],
   "source": [
    "# classification\n",
    "\n",
    "from sklearn.model_selection import train_test_split\n",
    "from sklearn.tree import DecisionTreeClassifier\n",
    "from sklearn.ensemble import RandomForestClassifier\n",
    "from sklearn.linear_model import LogisticRegression\n",
    "from xgboost import XGBClassifier, plot_importance\n",
    "from lightgbm import LGBMClassifier\n",
    "from sklearn.model_selection import GridSearchCV\n",
    "from sklearn.metrics import accuracy_score, precision_score, recall_score, f1_score, roc_auc_score\n",
    "import warnings\n",
    "warnings.filterwarnings('ignore')\n",
    "\n",
    "\n",
    "def clf(train, test=None):\n",
    "    \n",
    "    if test is not None:\n",
    "        mode = '테스트'\n",
    "        X_train = train.drop('y', axis=1)\n",
    "        y_train = train['y']\n",
    "\n",
    "        X_test = test.drop('y', axis=1)\n",
    "        y_test = test['y']\n",
    "        \n",
    "    else:\n",
    "        mode = '검증'\n",
    "        X = train.drop('y', axis=1)\n",
    "        y = train['y']\n",
    "        X_train, X_test, y_train, y_test = train_test_split(X, y,\n",
    "                                                           test_size=0.3,\n",
    "                                                           random_state=1004)\n",
    "\n",
    "    # 객체 생성\n",
    "    dct_clf = DecisionTreeClassifier(criterion = 'entropy')\n",
    "    rf_clf = RandomForestClassifier()\n",
    "    lr_clf = LogisticRegression()\n",
    "    xgb_clf = XGBClassifier(eval_metric='logloss')\n",
    "    lgb_clf = LGBMClassifier()\n",
    "    gb_clf = GradientBoostingClassifier()\n",
    "    # svm_clf = SVC(probability=True)\n",
    "\n",
    "    # 파라미터 설정\n",
    "    dct_parameters = {'max_depth':[3,5], }\n",
    "    rf_parameters = {'n_estimators':[100,200,300], 'max_depth':[7,9,11]}\n",
    "    lr_parameters = { \"penalty\":['l1', 'l2', 'elasticnet', 'none'], 'C': [ 1, 10, 100, 1000]}\n",
    "    xgb_parameters = {'n_estimators':[300], 'learning_rate':[0.05, 0.1], 'max_depth':[4,5,6]}\n",
    "    lgb_parameters = {'n_estimators':[300], 'learning_rate':[0.05, 0.1], 'max_depth':[4,5,6]}\n",
    "\n",
    "    clf_param = [(dct_clf,dct_parameters),(rf_clf,rf_parameters),(lr_clf,lr_parameters),\n",
    "                 (xgb_clf,xgb_parameters),(lgb_clf,lgb_parameters)]\n",
    "    \n",
    "    for clf, parameter in clf_param:\n",
    "        grid_clf = GridSearchCV(clf, param_grid=parameter, scoring='accuracy', cv=3, refit=True)\n",
    "        grid_clf.fit(X_train, y_train)\n",
    "\n",
    "        # 교차검증 결과 출력\n",
    "        class_name = clf.__class__.__name__\n",
    "        scores_df = pd.DataFrame(grid_clf.cv_results_)\n",
    "        # display(HTML(scores_df[['params','rank_test_score','mean_test_score']].to_html()))\n",
    "        print(f'{class_name} 최적 하이퍼 파라미터:', grid_clf.best_params_)\n",
    "        print('{0} 최고 정확도:{1:.4f}'.format(class_name,grid_clf.best_score_))\n",
    "\n",
    "        # x_test에 최적 하이퍼 파라미터 적용하여 분석한 결과\n",
    "        best_clf = grid_clf.best_estimator_\n",
    "        pred = best_clf.predict(X_test)\n",
    "        pred_proba = best_clf.predict_proba(X_test)[:,1]\n",
    "\n",
    "        accuracy = accuracy_score(y_test, pred)\n",
    "        precision = precision_score(y_test, pred)\n",
    "        recall = recall_score(y_test, pred)\n",
    "        f1 = f1_score(y_test, pred)\n",
    "        auc = roc_auc_score(y_test, pred_proba)\n",
    "\n",
    "        print(f'< {mode} 데이터셋 >')\n",
    "        print('accuracy  :  {:.4f}'.format(accuracy))\n",
    "        print('precision :  {:.4f}'.format(precision))\n",
    "        print('recall    :  {:.4f}'.format(recall))\n",
    "        print('f1        :  {:.4f}'.format(f1))\n",
    "        print('roc_auc   :  {:.4f}\\n'.format(auc))"
   ]
  },
  {
   "cell_type": "markdown",
   "metadata": {},
   "source": [
    "# full dataset"
   ]
  },
  {
   "cell_type": "code",
   "execution_count": 23,
   "metadata": {
    "colab": {
     "base_uri": "https://localhost:8080/",
     "height": 1000
    },
    "executionInfo": {
     "elapsed": 495355,
     "status": "error",
     "timestamp": 1650733194682,
     "user": {
      "displayName": "조현정",
      "userId": "02569453026248958222"
     },
     "user_tz": -540
    },
    "id": "QAAbM29HLo8U",
    "outputId": "c903d504-fd62-4754-b601-22cbead5aef0"
   },
   "outputs": [
    {
     "name": "stdout",
     "output_type": "stream",
     "text": [
      "DecisionTreeClassifier 최적 하이퍼 파라미터: {'max_depth': 5}\n",
      "DecisionTreeClassifier 최고 정확도:0.6865\n",
      "< 검증 데이터셋 >\n",
      "accuracy  :  0.6930\n",
      "precision :  0.6345\n",
      "recall    :  0.6271\n",
      "f1        :  0.6308\n",
      "roc_auc   :  0.7559\n",
      "\n",
      "RandomForestClassifier 최적 하이퍼 파라미터: {'max_depth': 7, 'n_estimators': 300}\n",
      "RandomForestClassifier 최고 정확도:0.7124\n",
      "< 검증 데이터셋 >\n",
      "accuracy  :  0.7117\n",
      "precision :  0.6697\n",
      "recall    :  0.6134\n",
      "f1        :  0.6403\n",
      "roc_auc   :  0.7811\n",
      "\n",
      "LogisticRegression 최적 하이퍼 파라미터: {'C': 1, 'penalty': 'l2'}\n",
      "LogisticRegression 최고 정확도:0.6496\n",
      "< 검증 데이터셋 >\n",
      "accuracy  :  0.6545\n",
      "precision :  0.6046\n",
      "recall    :  0.5027\n",
      "f1        :  0.5490\n",
      "roc_auc   :  0.7021\n",
      "\n",
      "XGBClassifier 최적 하이퍼 파라미터: {'learning_rate': 0.05, 'max_depth': 4, 'n_estimators': 300}\n",
      "XGBClassifier 최고 정확도:0.7088\n",
      "< 검증 데이터셋 >\n",
      "accuracy  :  0.7105\n",
      "precision :  0.6600\n",
      "recall    :  0.6350\n",
      "f1        :  0.6473\n",
      "roc_auc   :  0.7815\n",
      "\n",
      "LGBMClassifier 최적 하이퍼 파라미터: {'learning_rate': 0.05, 'max_depth': 4, 'n_estimators': 300}\n",
      "LGBMClassifier 최고 정확도:0.7059\n",
      "< 검증 데이터셋 >\n",
      "accuracy  :  0.7093\n",
      "precision :  0.6593\n",
      "recall    :  0.6313\n",
      "f1        :  0.6450\n",
      "roc_auc   :  0.7806\n",
      "\n"
     ]
    }
   ],
   "source": [
    "# 검증 데이터셋\n",
    "clf(dataset1)"
   ]
  },
  {
   "cell_type": "code",
   "execution_count": 24,
   "metadata": {
    "executionInfo": {
     "elapsed": 10,
     "status": "aborted",
     "timestamp": 1650733194680,
     "user": {
      "displayName": "조현정",
      "userId": "02569453026248958222"
     },
     "user_tz": -540
    },
    "id": "i9UcdvMEVBKQ"
   },
   "outputs": [
    {
     "data": {
      "text/html": [
       "\n",
       "                <audio  controls=\"controls\" autoplay=\"autoplay\">\n",
       "                    <source src=\"data:audio/mpeg;base64,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\" type=\"audio/mpeg\" />\n",
       "                    Your browser does not support the audio element.\n",
       "                </audio>\n",
       "              "
      ],
      "text/plain": [
       "<IPython.lib.display.Audio object>"
      ]
     },
     "metadata": {},
     "output_type": "display_data"
    }
   ],
   "source": [
    "speak('검증 데이터셋 완료')"
   ]
  },
  {
   "cell_type": "code",
   "execution_count": 25,
   "metadata": {
    "executionInfo": {
     "elapsed": 10,
     "status": "aborted",
     "timestamp": 1650733194680,
     "user": {
      "displayName": "조현정",
      "userId": "02569453026248958222"
     },
     "user_tz": -540
    },
    "id": "UBlA_kQrLrPO"
   },
   "outputs": [
    {
     "name": "stdout",
     "output_type": "stream",
     "text": [
      "DecisionTreeClassifier 최적 하이퍼 파라미터: {'max_depth': 5}\n",
      "DecisionTreeClassifier 최고 정확도:0.6965\n",
      "< 테스트 데이터셋 >\n",
      "accuracy  :  0.6834\n",
      "precision :  0.6860\n",
      "recall    :  0.6503\n",
      "f1        :  0.6677\n",
      "roc_auc   :  0.7454\n",
      "\n",
      "RandomForestClassifier 최적 하이퍼 파라미터: {'max_depth': 9, 'n_estimators': 300}\n",
      "RandomForestClassifier 최고 정확도:0.7124\n",
      "< 테스트 데이터셋 >\n",
      "accuracy  :  0.6941\n",
      "precision :  0.7011\n",
      "recall    :  0.6529\n",
      "f1        :  0.6761\n",
      "roc_auc   :  0.7628\n",
      "\n",
      "LogisticRegression 최적 하이퍼 파라미터: {'C': 10, 'penalty': 'l2'}\n",
      "LogisticRegression 최고 정확도:0.6506\n",
      "< 테스트 데이터셋 >\n",
      "accuracy  :  0.6306\n",
      "precision :  0.6551\n",
      "recall    :  0.5169\n",
      "f1        :  0.5778\n",
      "roc_auc   :  0.6924\n",
      "\n",
      "XGBClassifier 최적 하이퍼 파라미터: {'learning_rate': 0.05, 'max_depth': 4, 'n_estimators': 300}\n",
      "XGBClassifier 최고 정확도:0.7062\n",
      "< 테스트 데이터셋 >\n",
      "accuracy  :  0.6918\n",
      "precision :  0.6919\n",
      "recall    :  0.6665\n",
      "f1        :  0.6790\n",
      "roc_auc   :  0.7623\n",
      "\n",
      "LGBMClassifier 최적 하이퍼 파라미터: {'learning_rate': 0.05, 'max_depth': 4, 'n_estimators': 300}\n",
      "LGBMClassifier 최고 정확도:0.7073\n",
      "< 테스트 데이터셋 >\n",
      "accuracy  :  0.6914\n",
      "precision :  0.6912\n",
      "recall    :  0.6670\n",
      "f1        :  0.6789\n",
      "roc_auc   :  0.7625\n",
      "\n"
     ]
    }
   ],
   "source": [
    "# 테스트 데이터셋\n",
    "clf(dataset1, dataset2)"
   ]
  },
  {
   "cell_type": "code",
   "execution_count": 26,
   "metadata": {
    "executionInfo": {
     "elapsed": 9,
     "status": "aborted",
     "timestamp": 1650733194680,
     "user": {
      "displayName": "조현정",
      "userId": "02569453026248958222"
     },
     "user_tz": -540
    },
    "id": "vQuYibNrVEtO"
   },
   "outputs": [
    {
     "data": {
      "text/html": [
       "\n",
       "                <audio  controls=\"controls\" autoplay=\"autoplay\">\n",
       "                    <source src=\"data:audio/mpeg;base64,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\" type=\"audio/mpeg\" />\n",
       "                    Your browser does not support the audio element.\n",
       "                </audio>\n",
       "              "
      ],
      "text/plain": [
       "<IPython.lib.display.Audio object>"
      ]
     },
     "metadata": {},
     "output_type": "display_data"
    }
   ],
   "source": [
    "speak('테스트 데이터셋 완료')"
   ]
  },
  {
   "cell_type": "markdown",
   "metadata": {},
   "source": [
    "# small dataset"
   ]
  },
  {
   "cell_type": "code",
   "execution_count": 17,
   "metadata": {},
   "outputs": [],
   "source": [
    "# 데이터셋 불러오기\n",
    "s_dataset1 = pd.read_csv('./small_dataset1.csv', index_col=0)\n",
    "s_dataset2 = pd.read_csv('./small_dataset2.csv', index_col=0)"
   ]
  },
  {
   "cell_type": "code",
   "execution_count": 19,
   "metadata": {},
   "outputs": [
    {
     "name": "stdout",
     "output_type": "stream",
     "text": [
      "DecisionTreeClassifier 최적 하이퍼 파라미터: {'max_depth': 3}\n",
      "DecisionTreeClassifier 최고 정확도:0.7076\n",
      "< 검증 데이터셋 >\n",
      "accuracy  :  0.7175\n",
      "precision :  0.6678\n",
      "recall    :  0.6459\n",
      "f1        :  0.6567\n",
      "roc_auc   :  0.7705\n",
      "\n",
      "RandomForestClassifier 최적 하이퍼 파라미터: {'max_depth': 7, 'n_estimators': 200}\n",
      "RandomForestClassifier 최고 정확도:0.7155\n",
      "< 검증 데이터셋 >\n",
      "accuracy  :  0.7180\n",
      "precision :  0.6694\n",
      "recall    :  0.6438\n",
      "f1        :  0.6563\n",
      "roc_auc   :  0.7860\n",
      "\n",
      "LogisticRegression 최적 하이퍼 파라미터: {'C': 1, 'penalty': 'l2'}\n",
      "LogisticRegression 최고 정확도:0.7136\n",
      "< 검증 데이터셋 >\n",
      "accuracy  :  0.7140\n",
      "precision :  0.6707\n",
      "recall    :  0.6213\n",
      "f1        :  0.6451\n",
      "roc_auc   :  0.7759\n",
      "\n",
      "XGBClassifier 최적 하이퍼 파라미터: {'learning_rate': 0.05, 'max_depth': 4, 'n_estimators': 300}\n",
      "XGBClassifier 최고 정확도:0.7095\n",
      "< 검증 데이터셋 >\n",
      "accuracy  :  0.7104\n",
      "precision :  0.6565\n",
      "recall    :  0.6450\n",
      "f1        :  0.6507\n",
      "roc_auc   :  0.7840\n",
      "\n",
      "LGBMClassifier 최적 하이퍼 파라미터: {'learning_rate': 0.05, 'max_depth': 4, 'n_estimators': 300}\n",
      "LGBMClassifier 최고 정확도:0.7063\n",
      "< 검증 데이터셋 >\n",
      "accuracy  :  0.7121\n",
      "precision :  0.6594\n",
      "recall    :  0.6446\n",
      "f1        :  0.6519\n",
      "roc_auc   :  0.7826\n",
      "\n"
     ]
    }
   ],
   "source": [
    "# 검증 데이터셋\n",
    "clf(s_dataset1)"
   ]
  },
  {
   "cell_type": "code",
   "execution_count": 20,
   "metadata": {},
   "outputs": [
    {
     "data": {
      "text/html": [
       "\n",
       "                <audio  controls=\"controls\" autoplay=\"autoplay\">\n",
       "                    <source src=\"data:audio/mpeg;base64,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\" type=\"audio/mpeg\" />\n",
       "                    Your browser does not support the audio element.\n",
       "                </audio>\n",
       "              "
      ],
      "text/plain": [
       "<IPython.lib.display.Audio object>"
      ]
     },
     "metadata": {},
     "output_type": "display_data"
    }
   ],
   "source": [
    "speak('검증 데이터셋 완료')"
   ]
  },
  {
   "cell_type": "code",
   "execution_count": 21,
   "metadata": {},
   "outputs": [
    {
     "name": "stdout",
     "output_type": "stream",
     "text": [
      "DecisionTreeClassifier 최적 하이퍼 파라미터: {'max_depth': 3}\n",
      "DecisionTreeClassifier 최고 정확도:0.7085\n",
      "< 테스트 데이터셋 >\n",
      "accuracy  :  0.6956\n",
      "precision :  0.7228\n",
      "recall    :  0.6125\n",
      "f1        :  0.6631\n",
      "roc_auc   :  0.7586\n",
      "\n",
      "RandomForestClassifier 최적 하이퍼 파라미터: {'max_depth': 9, 'n_estimators': 100}\n",
      "RandomForestClassifier 최고 정확도:0.7142\n",
      "< 테스트 데이터셋 >\n",
      "accuracy  :  0.6992\n",
      "precision :  0.7019\n",
      "recall    :  0.6692\n",
      "f1        :  0.6851\n",
      "roc_auc   :  0.7674\n",
      "\n",
      "LogisticRegression 최적 하이퍼 파라미터: {'C': 1, 'penalty': 'l2'}\n",
      "LogisticRegression 최고 정확도:0.7094\n",
      "< 테스트 데이터셋 >\n",
      "accuracy  :  0.6861\n",
      "precision :  0.7005\n",
      "recall    :  0.6255\n",
      "f1        :  0.6609\n",
      "roc_auc   :  0.7567\n",
      "\n",
      "XGBClassifier 최적 하이퍼 파라미터: {'learning_rate': 0.05, 'max_depth': 4, 'n_estimators': 300}\n",
      "XGBClassifier 최고 정확도:0.7090\n",
      "< 테스트 데이터셋 >\n",
      "accuracy  :  0.7001\n",
      "precision :  0.7001\n",
      "recall    :  0.6764\n",
      "f1        :  0.6881\n",
      "roc_auc   :  0.7685\n",
      "\n",
      "LGBMClassifier 최적 하이퍼 파라미터: {'learning_rate': 0.05, 'max_depth': 4, 'n_estimators': 300}\n",
      "LGBMClassifier 최고 정확도:0.7087\n",
      "< 테스트 데이터셋 >\n",
      "accuracy  :  0.6982\n",
      "precision :  0.6986\n",
      "recall    :  0.6734\n",
      "f1        :  0.6858\n",
      "roc_auc   :  0.7674\n",
      "\n"
     ]
    }
   ],
   "source": [
    "# 테스트 데이터셋\n",
    "clf(s_dataset1, s_dataset2)"
   ]
  },
  {
   "cell_type": "code",
   "execution_count": 22,
   "metadata": {},
   "outputs": [
    {
     "data": {
      "text/html": [
       "\n",
       "                <audio  controls=\"controls\" autoplay=\"autoplay\">\n",
       "                    <source src=\"data:audio/mpeg;base64,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\" type=\"audio/mpeg\" />\n",
       "                    Your browser does not support the audio element.\n",
       "                </audio>\n",
       "              "
      ],
      "text/plain": [
       "<IPython.lib.display.Audio object>"
      ]
     },
     "metadata": {},
     "output_type": "display_data"
    }
   ],
   "source": [
    "speak('테스트 데이터셋 완료')"
   ]
  },
  {
   "cell_type": "markdown",
   "metadata": {},
   "source": [
    "# sfm dataset"
   ]
  },
  {
   "cell_type": "code",
   "execution_count": 33,
   "metadata": {},
   "outputs": [
    {
     "name": "stdout",
     "output_type": "stream",
     "text": [
      "DecisionTreeClassifier 최적 하이퍼 파라미터: {'max_depth': 5}\n",
      "DecisionTreeClassifier 최고 정확도:0.6929\n",
      "< 검증 데이터셋 >\n",
      "accuracy  :  0.6950\n",
      "precision :  0.6400\n",
      "recall    :  0.6192\n",
      "f1        :  0.6294\n",
      "roc_auc   :  0.7573\n",
      "\n",
      "RandomForestClassifier 최적 하이퍼 파라미터: {'max_depth': 11, 'n_estimators': 300}\n",
      "RandomForestClassifier 최고 정확도:0.7115\n",
      "< 검증 데이터셋 >\n",
      "accuracy  :  0.7117\n",
      "precision :  0.6636\n",
      "recall    :  0.6305\n",
      "f1        :  0.6466\n",
      "roc_auc   :  0.7833\n",
      "\n",
      "LogisticRegression 최적 하이퍼 파라미터: {'C': 1, 'penalty': 'none'}\n",
      "LogisticRegression 최고 정확도:0.6242\n",
      "< 검증 데이터셋 >\n",
      "accuracy  :  0.6277\n",
      "precision :  0.5981\n",
      "recall    :  0.3350\n",
      "f1        :  0.4294\n",
      "roc_auc   :  0.6751\n",
      "\n",
      "XGBClassifier 최적 하이퍼 파라미터: {'learning_rate': 0.05, 'max_depth': 6, 'n_estimators': 300}\n",
      "XGBClassifier 최고 정확도:0.7082\n",
      "< 검증 데이터셋 >\n",
      "accuracy  :  0.7107\n",
      "precision :  0.6619\n",
      "recall    :  0.6305\n",
      "f1        :  0.6458\n",
      "roc_auc   :  0.7745\n",
      "\n",
      "LGBMClassifier 최적 하이퍼 파라미터: {'learning_rate': 0.05, 'max_depth': 4, 'n_estimators': 300}\n",
      "LGBMClassifier 최고 정확도:0.7072\n",
      "< 검증 데이터셋 >\n",
      "accuracy  :  0.7119\n",
      "precision :  0.6639\n",
      "recall    :  0.6305\n",
      "f1        :  0.6467\n",
      "roc_auc   :  0.7794\n",
      "\n"
     ]
    },
    {
     "data": {
      "text/html": [
       "\n",
       "                <audio  controls=\"controls\" autoplay=\"autoplay\">\n",
       "                    <source src=\"data:audio/mpeg;base64,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\" type=\"audio/mpeg\" />\n",
       "                    Your browser does not support the audio element.\n",
       "                </audio>\n",
       "              "
      ],
      "text/plain": [
       "<IPython.lib.display.Audio object>"
      ]
     },
     "metadata": {},
     "output_type": "display_data"
    }
   ],
   "source": [
    "# 데이터셋 불러오기\n",
    "sfm_dataset1 = pd.read_csv('./sfm_dataset1.csv', index_col=0)\n",
    "sfm_dataset2 = pd.read_csv('./sfm_dataset2.csv', index_col=0)\n",
    "\n",
    "# 검증 데이터셋\n",
    "clf(sfm_dataset1)\n",
    "\n",
    "speak('검증 데이터셋 완료')"
   ]
  },
  {
   "cell_type": "code",
   "execution_count": 34,
   "metadata": {},
   "outputs": [
    {
     "name": "stdout",
     "output_type": "stream",
     "text": [
      "DecisionTreeClassifier 최적 하이퍼 파라미터: {'max_depth': 5}\n",
      "DecisionTreeClassifier 최고 정확도:0.6990\n",
      "< 테스트 데이터셋 >\n",
      "accuracy  :  0.6820\n",
      "precision :  0.6818\n",
      "recall    :  0.6561\n",
      "f1        :  0.6687\n",
      "roc_auc   :  0.7419\n",
      "\n",
      "RandomForestClassifier 최적 하이퍼 파라미터: {'max_depth': 11, 'n_estimators': 300}\n",
      "RandomForestClassifier 최고 정확도:0.7109\n",
      "< 테스트 데이터셋 >\n",
      "accuracy  :  0.6960\n",
      "precision :  0.7005\n",
      "recall    :  0.6610\n",
      "f1        :  0.6802\n",
      "roc_auc   :  0.7627\n",
      "\n",
      "LogisticRegression 최적 하이퍼 파라미터: {'C': 1, 'penalty': 'none'}\n",
      "LogisticRegression 최고 정확도:0.6173\n",
      "< 테스트 데이터셋 >\n",
      "accuracy  :  0.5749\n",
      "precision :  0.6408\n",
      "recall    :  0.2974\n",
      "f1        :  0.4063\n",
      "roc_auc   :  0.6540\n",
      "\n",
      "XGBClassifier 최적 하이퍼 파라미터: {'learning_rate': 0.05, 'max_depth': 5, 'n_estimators': 300}\n",
      "XGBClassifier 최고 정확도:0.7067\n",
      "< 테스트 데이터셋 >\n",
      "accuracy  :  0.6932\n",
      "precision :  0.6942\n",
      "recall    :  0.6662\n",
      "f1        :  0.6799\n",
      "roc_auc   :  0.7608\n",
      "\n",
      "LGBMClassifier 최적 하이퍼 파라미터: {'learning_rate': 0.05, 'max_depth': 4, 'n_estimators': 300}\n",
      "LGBMClassifier 최고 정확도:0.7073\n",
      "< 테스트 데이터셋 >\n",
      "accuracy  :  0.6933\n",
      "precision :  0.6959\n",
      "recall    :  0.6624\n",
      "f1        :  0.6787\n",
      "roc_auc   :  0.7630\n",
      "\n"
     ]
    },
    {
     "data": {
      "text/html": [
       "\n",
       "                <audio  controls=\"controls\" autoplay=\"autoplay\">\n",
       "                    <source src=\"data:audio/mpeg;base64,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\" type=\"audio/mpeg\" />\n",
       "                    Your browser does not support the audio element.\n",
       "                </audio>\n",
       "              "
      ],
      "text/plain": [
       "<IPython.lib.display.Audio object>"
      ]
     },
     "metadata": {},
     "output_type": "display_data"
    }
   ],
   "source": [
    "# 테스트 데이터셋\n",
    "clf(sfm_dataset1, sfm_dataset2)\n",
    "\n",
    "speak('테스트 데이터셋 완료')"
   ]
  },
  {
   "cell_type": "markdown",
   "metadata": {},
   "source": [
    "# 전진선택법 dataset"
   ]
  },
  {
   "cell_type": "code",
   "execution_count": 35,
   "metadata": {},
   "outputs": [
    {
     "name": "stdout",
     "output_type": "stream",
     "text": [
      "DecisionTreeClassifier 최적 하이퍼 파라미터: {'max_depth': 5}\n",
      "DecisionTreeClassifier 최고 정확도:0.6939\n",
      "< 검증 데이터셋 >\n",
      "accuracy  :  0.6942\n",
      "precision :  0.6407\n",
      "recall    :  0.6122\n",
      "f1        :  0.6261\n",
      "roc_auc   :  0.7571\n",
      "\n",
      "RandomForestClassifier 최적 하이퍼 파라미터: {'max_depth': 11, 'n_estimators': 100}\n",
      "RandomForestClassifier 최고 정확도:0.7128\n",
      "< 검증 데이터셋 >\n",
      "accuracy  :  0.7077\n",
      "precision :  0.6581\n",
      "recall    :  0.6271\n",
      "f1        :  0.6422\n",
      "roc_auc   :  0.7797\n",
      "\n",
      "LogisticRegression 최적 하이퍼 파라미터: {'C': 1, 'penalty': 'none'}\n",
      "LogisticRegression 최고 정확도:0.6130\n",
      "< 검증 데이터셋 >\n",
      "accuracy  :  0.6073\n",
      "precision :  0.5632\n",
      "recall    :  0.2726\n",
      "f1        :  0.3674\n",
      "roc_auc   :  0.6422\n",
      "\n",
      "XGBClassifier 최적 하이퍼 파라미터: {'learning_rate': 0.05, 'max_depth': 4, 'n_estimators': 300}\n",
      "XGBClassifier 최고 정확도:0.7077\n",
      "< 검증 데이터셋 >\n",
      "accuracy  :  0.7081\n",
      "precision :  0.6570\n",
      "recall    :  0.6321\n",
      "f1        :  0.6443\n",
      "roc_auc   :  0.7787\n",
      "\n",
      "LGBMClassifier 최적 하이퍼 파라미터: {'learning_rate': 0.05, 'max_depth': 4, 'n_estimators': 300}\n",
      "LGBMClassifier 최고 정확도:0.7082\n",
      "< 검증 데이터셋 >\n",
      "accuracy  :  0.7069\n",
      "precision :  0.6553\n",
      "recall    :  0.6313\n",
      "f1        :  0.6431\n",
      "roc_auc   :  0.7801\n",
      "\n"
     ]
    },
    {
     "data": {
      "text/html": [
       "\n",
       "                <audio  controls=\"controls\" autoplay=\"autoplay\">\n",
       "                    <source src=\"data:audio/mpeg;base64,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\" type=\"audio/mpeg\" />\n",
       "                    Your browser does not support the audio element.\n",
       "                </audio>\n",
       "              "
      ],
      "text/plain": [
       "<IPython.lib.display.Audio object>"
      ]
     },
     "metadata": {},
     "output_type": "display_data"
    }
   ],
   "source": [
    "# 데이터셋 불러오기\n",
    "f_dataset1 = pd.read_csv('./f_dataset1.csv', index_col=0)\n",
    "f_dataset2 = pd.read_csv('./f_dataset2.csv', index_col=0)\n",
    "\n",
    "# 검증 데이터셋\n",
    "clf(f_dataset1)\n",
    "\n",
    "speak('검증 데이터셋 완료')"
   ]
  },
  {
   "cell_type": "code",
   "execution_count": 36,
   "metadata": {},
   "outputs": [
    {
     "name": "stdout",
     "output_type": "stream",
     "text": [
      "DecisionTreeClassifier 최적 하이퍼 파라미터: {'max_depth': 5}\n",
      "DecisionTreeClassifier 최고 정확도:0.6989\n",
      "< 테스트 데이터셋 >\n",
      "accuracy  :  0.6808\n",
      "precision :  0.6819\n",
      "recall    :  0.6512\n",
      "f1        :  0.6662\n",
      "roc_auc   :  0.7439\n",
      "\n",
      "RandomForestClassifier 최적 하이퍼 파라미터: {'max_depth': 11, 'n_estimators': 300}\n",
      "RandomForestClassifier 최고 정확도:0.7101\n",
      "< 테스트 데이터셋 >\n",
      "accuracy  :  0.6931\n",
      "precision :  0.6970\n",
      "recall    :  0.6587\n",
      "f1        :  0.6773\n",
      "roc_auc   :  0.7633\n",
      "\n",
      "LogisticRegression 최적 하이퍼 파라미터: {'C': 1, 'penalty': 'none'}\n",
      "LogisticRegression 최고 정확도:0.6077\n",
      "< 테스트 데이터셋 >\n",
      "accuracy  :  0.5653\n",
      "precision :  0.6265\n",
      "recall    :  0.2750\n",
      "f1        :  0.3822\n",
      "roc_auc   :  0.6329\n",
      "\n",
      "XGBClassifier 최적 하이퍼 파라미터: {'learning_rate': 0.05, 'max_depth': 5, 'n_estimators': 300}\n",
      "XGBClassifier 최고 정확도:0.7066\n",
      "< 테스트 데이터셋 >\n",
      "accuracy  :  0.6927\n",
      "precision :  0.6941\n",
      "recall    :  0.6646\n",
      "f1        :  0.6790\n",
      "roc_auc   :  0.7612\n",
      "\n",
      "LGBMClassifier 최적 하이퍼 파라미터: {'learning_rate': 0.05, 'max_depth': 4, 'n_estimators': 300}\n",
      "LGBMClassifier 최고 정확도:0.7076\n",
      "< 테스트 데이터셋 >\n",
      "accuracy  :  0.6904\n",
      "precision :  0.6923\n",
      "recall    :  0.6606\n",
      "f1        :  0.6761\n",
      "roc_auc   :  0.7623\n",
      "\n"
     ]
    },
    {
     "data": {
      "text/html": [
       "\n",
       "                <audio  controls=\"controls\" autoplay=\"autoplay\">\n",
       "                    <source src=\"data:audio/mpeg;base64,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\" type=\"audio/mpeg\" />\n",
       "                    Your browser does not support the audio element.\n",
       "                </audio>\n",
       "              "
      ],
      "text/plain": [
       "<IPython.lib.display.Audio object>"
      ]
     },
     "metadata": {},
     "output_type": "display_data"
    }
   ],
   "source": [
    "# 테스트 데이터셋\n",
    "clf(f_dataset1, f_dataset2)\n",
    "\n",
    "speak('테스트 데이터셋 완료')"
   ]
  },
  {
   "cell_type": "markdown",
   "metadata": {},
   "source": [
    "# 후진선택법 dataset"
   ]
  },
  {
   "cell_type": "code",
   "execution_count": 37,
   "metadata": {},
   "outputs": [
    {
     "name": "stdout",
     "output_type": "stream",
     "text": [
      "DecisionTreeClassifier 최적 하이퍼 파라미터: {'max_depth': 5}\n",
      "DecisionTreeClassifier 최고 정확도:0.6933\n",
      "< 검증 데이터셋 >\n",
      "accuracy  :  0.6982\n",
      "precision :  0.6450\n",
      "recall    :  0.6192\n",
      "f1        :  0.6318\n",
      "roc_auc   :  0.7566\n",
      "\n",
      "RandomForestClassifier 최적 하이퍼 파라미터: {'max_depth': 9, 'n_estimators': 200}\n",
      "RandomForestClassifier 최고 정확도:0.7135\n",
      "< 검증 데이터셋 >\n",
      "accuracy  :  0.7142\n",
      "precision :  0.6683\n",
      "recall    :  0.6288\n",
      "f1        :  0.6479\n",
      "roc_auc   :  0.7818\n",
      "\n",
      "LogisticRegression 최적 하이퍼 파라미터: {'C': 1000, 'penalty': 'l2'}\n",
      "LogisticRegression 최고 정확도:0.6169\n",
      "< 검증 데이터셋 >\n",
      "accuracy  :  0.6228\n",
      "precision :  0.5851\n",
      "recall    :  0.3375\n",
      "f1        :  0.4281\n",
      "roc_auc   :  0.6553\n",
      "\n",
      "XGBClassifier 최적 하이퍼 파라미터: {'learning_rate': 0.05, 'max_depth': 4, 'n_estimators': 300}\n",
      "XGBClassifier 최고 정확도:0.7083\n",
      "< 검증 데이터셋 >\n",
      "accuracy  :  0.7044\n",
      "precision :  0.6552\n",
      "recall    :  0.6192\n",
      "f1        :  0.6367\n",
      "roc_auc   :  0.7781\n",
      "\n",
      "LGBMClassifier 최적 하이퍼 파라미터: {'learning_rate': 0.05, 'max_depth': 4, 'n_estimators': 300}\n",
      "LGBMClassifier 최고 정확도:0.7078\n",
      "< 검증 데이터셋 >\n",
      "accuracy  :  0.7069\n",
      "precision :  0.6584\n",
      "recall    :  0.6217\n",
      "f1        :  0.6396\n",
      "roc_auc   :  0.7792\n",
      "\n"
     ]
    },
    {
     "data": {
      "text/html": [
       "\n",
       "                <audio  controls=\"controls\" autoplay=\"autoplay\">\n",
       "                    <source src=\"data:audio/mpeg;base64,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\" type=\"audio/mpeg\" />\n",
       "                    Your browser does not support the audio element.\n",
       "                </audio>\n",
       "              "
      ],
      "text/plain": [
       "<IPython.lib.display.Audio object>"
      ]
     },
     "metadata": {},
     "output_type": "display_data"
    }
   ],
   "source": [
    "# 데이터셋 불러오기\n",
    "b_dataset1 = pd.read_csv('./b_dataset1.csv', index_col=0)\n",
    "b_dataset2 = pd.read_csv('./b_dataset2.csv', index_col=0)\n",
    "\n",
    "# 검증 데이터셋\n",
    "clf(b_dataset1)\n",
    "\n",
    "speak('검증 데이터셋 완료')"
   ]
  },
  {
   "cell_type": "code",
   "execution_count": 38,
   "metadata": {},
   "outputs": [
    {
     "name": "stdout",
     "output_type": "stream",
     "text": [
      "DecisionTreeClassifier 최적 하이퍼 파라미터: {'max_depth': 5}\n",
      "DecisionTreeClassifier 최고 정확도:0.6988\n",
      "< 테스트 데이터셋 >\n",
      "accuracy  :  0.6808\n",
      "precision :  0.6819\n",
      "recall    :  0.6512\n",
      "f1        :  0.6662\n",
      "roc_auc   :  0.7433\n",
      "\n",
      "RandomForestClassifier 최적 하이퍼 파라미터: {'max_depth': 9, 'n_estimators': 100}\n",
      "RandomForestClassifier 최고 정확도:0.7101\n",
      "< 테스트 데이터셋 >\n",
      "accuracy  :  0.6918\n",
      "precision :  0.6973\n",
      "recall    :  0.6535\n",
      "f1        :  0.6747\n",
      "roc_auc   :  0.7623\n",
      "\n",
      "LogisticRegression 최적 하이퍼 파라미터: {'C': 1, 'penalty': 'none'}\n",
      "LogisticRegression 최고 정확도:0.6121\n",
      "< 테스트 데이터셋 >\n",
      "accuracy  :  0.5725\n",
      "precision :  0.6283\n",
      "recall    :  0.3081\n",
      "f1        :  0.4134\n",
      "roc_auc   :  0.6409\n",
      "\n",
      "XGBClassifier 최적 하이퍼 파라미터: {'learning_rate': 0.05, 'max_depth': 5, 'n_estimators': 300}\n",
      "XGBClassifier 최고 정확도:0.7075\n",
      "< 테스트 데이터셋 >\n",
      "accuracy  :  0.6914\n",
      "precision :  0.6932\n",
      "recall    :  0.6621\n",
      "f1        :  0.6773\n",
      "roc_auc   :  0.7612\n",
      "\n",
      "LGBMClassifier 최적 하이퍼 파라미터: {'learning_rate': 0.05, 'max_depth': 4, 'n_estimators': 300}\n",
      "LGBMClassifier 최고 정확도:0.7054\n",
      "< 테스트 데이터셋 >\n",
      "accuracy  :  0.6914\n",
      "precision :  0.6941\n",
      "recall    :  0.6600\n",
      "f1        :  0.6766\n",
      "roc_auc   :  0.7625\n",
      "\n"
     ]
    },
    {
     "data": {
      "text/html": [
       "\n",
       "                <audio  controls=\"controls\" autoplay=\"autoplay\">\n",
       "                    <source src=\"data:audio/mpeg;base64,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\" type=\"audio/mpeg\" />\n",
       "                    Your browser does not support the audio element.\n",
       "                </audio>\n",
       "              "
      ],
      "text/plain": [
       "<IPython.lib.display.Audio object>"
      ]
     },
     "metadata": {},
     "output_type": "display_data"
    }
   ],
   "source": [
    "# 테스트 데이터셋\n",
    "clf(b_dataset1, b_dataset2)\n",
    "\n",
    "speak('테스트 데이터셋 완료')"
   ]
  },
  {
   "cell_type": "code",
   "execution_count": 39,
   "metadata": {},
   "outputs": [
    {
     "data": {
      "text/html": [
       "\n",
       "                <audio  controls=\"controls\" autoplay=\"autoplay\">\n",
       "                    <source src=\"data:audio/mpeg;base64,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\" type=\"audio/mpeg\" />\n",
       "                    Your browser does not support the audio element.\n",
       "                </audio>\n",
       "              "
      ],
      "text/plain": [
       "<IPython.lib.display.Audio object>"
      ]
     },
     "metadata": {},
     "output_type": "display_data"
    }
   ],
   "source": [
    "speak('돌아오시오~~')"
   ]
  },
  {
   "cell_type": "markdown",
   "metadata": {},
   "source": [
    "# <font color='green'>변수 중요도(XGB)</font>"
   ]
  },
  {
   "cell_type": "code",
   "execution_count": null,
   "metadata": {
    "id": "uHJZq11fLfTI"
   },
   "outputs": [],
   "source": [
    "# # 변수 중요도(XGB)\n",
    "# import matplotlib.pyplot as plt\n",
    "# %matplotlib inline\n",
    "\n",
    "# xgb_clf = XGBClassifier(learning_rate=0.05, max_depth=4, n_estimators=300)\n",
    "# xgb_clf.fit(X_train, y_train)\n",
    "# fig, ax = plt.subplots(1,1,figsize=(10,8))\n",
    "# plot_importance(xgb_clf, ax=ax, max_num_features=20, height=0.4)"
   ]
  }
 ],
 "metadata": {
  "colab": {
   "authorship_tag": "ABX9TyO1nlRU6abY0lNOi+Teu4hW",
   "collapsed_sections": [],
   "name": "3_machine_learning(classification).ipynb",
   "provenance": []
  },
  "kernelspec": {
   "display_name": "Python 3",
   "language": "python",
   "name": "python3"
  },
  "language_info": {
   "codemirror_mode": {
    "name": "ipython",
    "version": 3
   },
   "file_extension": ".py",
   "mimetype": "text/x-python",
   "name": "python",
   "nbconvert_exporter": "python",
   "pygments_lexer": "ipython3",
   "version": "3.8.3"
  }
 },
 "nbformat": 4,
 "nbformat_minor": 1
}
