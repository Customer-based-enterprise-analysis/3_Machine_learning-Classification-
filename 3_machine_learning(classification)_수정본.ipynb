{
 "cells": [
  {
   "cell_type": "markdown",
   "metadata": {},
   "source": [
    "## 수정 사항\n",
    "1. 검증 / 테스트 -> 검증 best_estimator를 적용한 '같은 모델' 사용하도록 수정\n",
    "2. test시 train data에서 validation data 제외하도록 수정"
   ]
  },
  {
   "cell_type": "code",
   "execution_count": 8,
   "metadata": {
    "colab": {
     "base_uri": "https://localhost:8080/"
    },
    "executionInfo": {
     "elapsed": 11814,
     "status": "ok",
     "timestamp": 1650732680925,
     "user": {
      "displayName": "조현정",
      "userId": "02569453026248958222"
     },
     "user_tz": -540
    },
    "id": "aEYuH8YhVZF0",
    "outputId": "2a92c82a-de07-4082-8383-e1962bb45180"
   },
   "outputs": [
    {
     "name": "stdout",
     "output_type": "stream",
     "text": [
      "Reading package lists... Done\n",
      "Building dependency tree       \n",
      "Reading state information... Done\n",
      "The following NEW packages will be installed:\n",
      "  fonts-nanum\n",
      "0 upgraded, 1 newly installed, 0 to remove and 40 not upgraded.\n",
      "Need to get 9,604 kB of archives.\n",
      "After this operation, 29.5 MB of additional disk space will be used.\n",
      "Get:1 http://archive.ubuntu.com/ubuntu bionic/universe amd64 fonts-nanum all 20170925-1 [9,604 kB]\n",
      "Fetched 9,604 kB in 1s (9,734 kB/s)\n",
      "debconf: unable to initialize frontend: Dialog\n",
      "debconf: (No usable dialog-like program is installed, so the dialog based frontend cannot be used. at /usr/share/perl5/Debconf/FrontEnd/Dialog.pm line 76, <> line 1.)\n",
      "debconf: falling back to frontend: Readline\n",
      "debconf: unable to initialize frontend: Readline\n",
      "debconf: (This frontend requires a controlling tty.)\n",
      "debconf: falling back to frontend: Teletype\n",
      "dpkg-preconfigure: unable to re-open stdin: \n",
      "Selecting previously unselected package fonts-nanum.\n",
      "(Reading database ... 155501 files and directories currently installed.)\n",
      "Preparing to unpack .../fonts-nanum_20170925-1_all.deb ...\n",
      "Unpacking fonts-nanum (20170925-1) ...\n",
      "Setting up fonts-nanum (20170925-1) ...\n",
      "Processing triggers for fontconfig (2.12.6-0ubuntu2) ...\n",
      "/usr/share/fonts: caching, new cache contents: 0 fonts, 1 dirs\n",
      "/usr/share/fonts/truetype: caching, new cache contents: 0 fonts, 3 dirs\n",
      "/usr/share/fonts/truetype/humor-sans: caching, new cache contents: 1 fonts, 0 dirs\n",
      "/usr/share/fonts/truetype/liberation: caching, new cache contents: 16 fonts, 0 dirs\n",
      "/usr/share/fonts/truetype/nanum: caching, new cache contents: 10 fonts, 0 dirs\n",
      "/usr/local/share/fonts: caching, new cache contents: 0 fonts, 0 dirs\n",
      "/root/.local/share/fonts: skipping, no such directory\n",
      "/root/.fonts: skipping, no such directory\n",
      "/var/cache/fontconfig: cleaning cache directory\n",
      "/root/.cache/fontconfig: not cleaning non-existent cache directory\n",
      "/root/.fontconfig: not cleaning non-existent cache directory\n",
      "fc-cache: succeeded\n"
     ]
    }
   ],
   "source": [
    "# 한글 폰트 설치\n",
    "!sudo apt-get install -y fonts-nanum\n",
    "!sudo fc-cache -fv\n",
    "!rm ~/.cache/matplotlib -rf"
   ]
  },
  {
   "cell_type": "code",
   "execution_count": 1,
   "metadata": {
    "colab": {
     "base_uri": "https://localhost:8080/"
    },
    "executionInfo": {
     "elapsed": 9796,
     "status": "ok",
     "timestamp": 1650732538391,
     "user": {
      "displayName": "조현정",
      "userId": "02569453026248958222"
     },
     "user_tz": -540
    },
    "id": "L2PTFsO2U27N",
    "outputId": "b3351b67-19e6-40c8-a770-3316bfd4f994"
   },
   "outputs": [
    {
     "name": "stdout",
     "output_type": "stream",
     "text": [
      "Requirement already satisfied: gtts in c:\\anaconda3\\envs\\cakd3\\lib\\site-packages (2.2.3)\n",
      "Requirement already satisfied: click in c:\\anaconda3\\envs\\cakd3\\lib\\site-packages (from gtts) (8.0.1)\n",
      "Requirement already satisfied: requests in c:\\anaconda3\\envs\\cakd3\\lib\\site-packages (from gtts) (2.25.1)\n",
      "Requirement already satisfied: six in c:\\anaconda3\\envs\\cakd3\\lib\\site-packages (from gtts) (1.16.0)\n",
      "Requirement already satisfied: colorama in c:\\anaconda3\\envs\\cakd3\\lib\\site-packages (from click->gtts) (0.4.4)\n",
      "Requirement already satisfied: certifi>=2017.4.17 in c:\\anaconda3\\envs\\cakd3\\lib\\site-packages (from requests->gtts) (2021.5.30)\n",
      "Requirement already satisfied: idna<3,>=2.5 in c:\\anaconda3\\envs\\cakd3\\lib\\site-packages (from requests->gtts) (2.10)\n",
      "Requirement already satisfied: urllib3<1.27,>=1.21.1 in c:\\anaconda3\\envs\\cakd3\\lib\\site-packages (from requests->gtts) (1.26.4)\n",
      "Requirement already satisfied: chardet<5,>=3.0.2 in c:\\anaconda3\\envs\\cakd3\\lib\\site-packages (from requests->gtts) (3.0.4)\n",
      "Note: you may need to restart the kernel to use updated packages.\n"
     ]
    },
    {
     "name": "stderr",
     "output_type": "stream",
     "text": [
      "WARNING: You are using pip version 21.3; however, version 22.0.4 is available.\n",
      "You should consider upgrading via the 'C:\\anaconda3\\envs\\cakd3\\python.exe -m pip install --upgrade pip' command.\n"
     ]
    }
   ],
   "source": [
    "pip install gtts"
   ]
  },
  {
   "cell_type": "code",
   "execution_count": 1,
   "metadata": {
    "colab": {
     "base_uri": "https://localhost:8080/"
    },
    "executionInfo": {
     "elapsed": 2235,
     "status": "ok",
     "timestamp": 1650732554339,
     "user": {
      "displayName": "조현정",
      "userId": "02569453026248958222"
     },
     "user_tz": -540
    },
    "id": "R0mJZWf7UnTV",
    "outputId": "6fb6d0e9-e396-4f68-a283-a7b1da9c3d3a"
   },
   "outputs": [
    {
     "name": "stdout",
     "output_type": "stream",
     "text": [
      "Drive already mounted at /content/drive; to attempt to forcibly remount, call drive.mount(\"/content/drive\", force_remount=True).\n"
     ]
    }
   ],
   "source": [
    "# 드라이브 마운트\n",
    "from google.colab import drive\n",
    "drive.mount('/content/drive')"
   ]
  },
  {
   "cell_type": "code",
   "execution_count": 2,
   "metadata": {
    "executionInfo": {
     "elapsed": 9,
     "status": "aborted",
     "timestamp": 1650733194679,
     "user": {
      "displayName": "조현정",
      "userId": "02569453026248958222"
     },
     "user_tz": -540
    },
    "id": "ZJn-FFssUqK1"
   },
   "outputs": [],
   "source": [
    "import pandas as pd\n",
    "from gtts import gTTS\n",
    "import os \n",
    "from IPython.display import Audio\n",
    "import warnings\n",
    "warnings.filterwarnings('ignore')\n",
    "\n",
    "def speak(text):\n",
    "    tts = gTTS(text=text, lang='ko') \n",
    "    filename='voice.mp3' \n",
    "    tts.save(filename)\n",
    "    display(Audio(filename, autoplay=True))\n",
    "    os.remove(filename)"
   ]
  },
  {
   "cell_type": "code",
   "execution_count": 2,
   "metadata": {
    "colab": {
     "base_uri": "https://localhost:8080/"
    },
    "executionInfo": {
     "elapsed": 6,
     "status": "ok",
     "timestamp": 1650732692338,
     "user": {
      "displayName": "조현정",
      "userId": "02569453026248958222"
     },
     "user_tz": -540
    },
    "id": "wqiThgFPLDZq",
    "outputId": "5d1c1f0c-2301-42dc-810a-454bcfeaa02b"
   },
   "outputs": [
    {
     "name": "stdout",
     "output_type": "stream",
     "text": [
      "/content/drive/MyDrive/Cakd3_Project/1.ldata_현정\n"
     ]
    }
   ],
   "source": [
    "# change directory\n",
    "%cd /content/drive/MyDrive/Cakd3_Project/1.ldata_현정"
   ]
  },
  {
   "cell_type": "code",
   "execution_count": 4,
   "metadata": {
    "executionInfo": {
     "elapsed": 383,
     "status": "ok",
     "timestamp": 1650732692717,
     "user": {
      "displayName": "조현정",
      "userId": "02569453026248958222"
     },
     "user_tz": -540
    },
    "id": "9RkYQ0ixLVMy"
   },
   "outputs": [],
   "source": [
    "# 데이터셋 불러오기\n",
    "dataset1 = pd.read_csv('./full_dataset1.csv', index_col=0)\n",
    "dataset2 = pd.read_csv('./full_dataset2.csv', index_col=0)"
   ]
  },
  {
   "cell_type": "code",
   "execution_count": 7,
   "metadata": {
    "executionInfo": {
     "elapsed": 882,
     "status": "ok",
     "timestamp": 1650732693596,
     "user": {
      "displayName": "조현정",
      "userId": "02569453026248958222"
     },
     "user_tz": -540
    },
    "id": "gg0t2idRLndR"
   },
   "outputs": [],
   "source": [
    "# classification\n",
    "\n",
    "from sklearn.model_selection import train_test_split\n",
    "from sklearn.tree import DecisionTreeClassifier\n",
    "from sklearn.ensemble import RandomForestClassifier\n",
    "from sklearn.linear_model import LogisticRegression\n",
    "from xgboost import XGBClassifier, plot_importance\n",
    "from lightgbm import LGBMClassifier\n",
    "from sklearn.model_selection import GridSearchCV\n",
    "from sklearn.metrics import accuracy_score, precision_score, recall_score, f1_score, roc_auc_score\n",
    "import warnings\n",
    "warnings.filterwarnings('ignore')\n",
    "\n",
    "\n",
    "def clf(train, test=None):\n",
    "    \n",
    "    if test is not None:\n",
    "        X_test = test.drop('y', axis=1)\n",
    "        y_test = test['y']\n",
    "        \n",
    "    X = train.drop('y', axis=1)\n",
    "    y = train['y']\n",
    "    X_train, X_valid, y_train, y_valid = train_test_split(X, y,\n",
    "                                                       test_size=0.3,\n",
    "                                                       random_state=1004)\n",
    "\n",
    "    # 객체 생성\n",
    "    dct_clf = DecisionTreeClassifier(criterion = 'entropy')\n",
    "    rf_clf = RandomForestClassifier()\n",
    "    lr_clf = LogisticRegression()\n",
    "    xgb_clf = XGBClassifier(eval_metric='logloss')\n",
    "    lgb_clf = LGBMClassifier()\n",
    "\n",
    "    # 파라미터 설정\n",
    "    dct_parameters = {'max_depth':[3,5], }\n",
    "    rf_parameters = {'n_estimators':[100,200,300], 'max_depth':[7,9,11]}\n",
    "    lr_parameters = { \"penalty\":['l1', 'l2', 'elasticnet', 'none'], 'C': [ 1, 10, 100, 1000]}\n",
    "    xgb_parameters = {'n_estimators':[300], 'learning_rate':[0.05, 0.1], 'max_depth':[4,5,6]}\n",
    "    lgb_parameters = {'n_estimators':[300], 'learning_rate':[0.05, 0.1], 'max_depth':[4,5,6]}\n",
    "\n",
    "    clf_param = [(dct_clf,dct_parameters),(rf_clf,rf_parameters),(lr_clf,lr_parameters),\n",
    "                 (xgb_clf,xgb_parameters),(lgb_clf,lgb_parameters)]\n",
    "    \n",
    "    for clf, parameter in clf_param:\n",
    "        grid_clf = GridSearchCV(clf, param_grid=parameter, scoring='accuracy', cv=3, refit=True)\n",
    "        grid_clf.fit(X_train, y_train)\n",
    "\n",
    "        # 교차검증 결과 출력\n",
    "        class_name = clf.__class__.__name__\n",
    "        scores_df = pd.DataFrame(grid_clf.cv_results_)\n",
    "        print(f'{class_name} 최적 하이퍼 파라미터:', grid_clf.best_params_)\n",
    "\n",
    "        # X_valid에 최적 하이퍼 파라미터 적용하여 분석한 결과\n",
    "        def clf_predict(X_test, y_test, mode):\n",
    "            best_clf = grid_clf.best_estimator_\n",
    "            pred = best_clf.predict(X_test)\n",
    "            pred_proba = best_clf.predict_proba(X_test)[:,1]\n",
    "\n",
    "            accuracy = accuracy_score(y_test, pred)\n",
    "            precision = precision_score(y_test, pred)\n",
    "            recall = recall_score(y_test, pred)\n",
    "            f1 = f1_score(y_test, pred)\n",
    "            auc = roc_auc_score(y_test, pred_proba)\n",
    "\n",
    "            print(f'< {mode} 데이터셋 >')\n",
    "            print('accuracy  :  {:.4f}'.format(accuracy))\n",
    "            print('precision :  {:.4f}'.format(precision))\n",
    "            print('recall    :  {:.4f}'.format(recall))\n",
    "            print('f1        :  {:.4f}'.format(f1))\n",
    "            print('roc_auc   :  {:.4f}\\n'.format(auc))\n",
    "            \n",
    "        clf_predict(X_valid, y_valid, '검증')\n",
    "        if test is not None:\n",
    "            clf_predict(X_test, y_test, '테스트')\n",
    "        print('='*80)"
   ]
  },
  {
   "cell_type": "markdown",
   "metadata": {},
   "source": [
    "# full dataset"
   ]
  },
  {
   "cell_type": "code",
   "execution_count": 8,
   "metadata": {
    "colab": {
     "base_uri": "https://localhost:8080/",
     "height": 1000
    },
    "executionInfo": {
     "elapsed": 495355,
     "status": "error",
     "timestamp": 1650733194682,
     "user": {
      "displayName": "조현정",
      "userId": "02569453026248958222"
     },
     "user_tz": -540
    },
    "id": "QAAbM29HLo8U",
    "outputId": "c903d504-fd62-4754-b601-22cbead5aef0"
   },
   "outputs": [
    {
     "name": "stdout",
     "output_type": "stream",
     "text": [
      "DecisionTreeClassifier 최적 하이퍼 파라미터: {'max_depth': 5}\n",
      "< 검증 데이터셋 >\n",
      "accuracy  :  0.6930\n",
      "precision :  0.6345\n",
      "recall    :  0.6271\n",
      "f1        :  0.6308\n",
      "roc_auc   :  0.7559\n",
      "\n",
      "================================================================================\n",
      "RandomForestClassifier 최적 하이퍼 파라미터: {'max_depth': 11, 'n_estimators': 200}\n",
      "< 검증 데이터셋 >\n",
      "accuracy  :  0.7163\n",
      "precision :  0.6700\n",
      "recall    :  0.6338\n",
      "f1        :  0.6514\n",
      "roc_auc   :  0.7831\n",
      "\n",
      "================================================================================\n",
      "LogisticRegression 최적 하이퍼 파라미터: {'C': 1, 'penalty': 'l2'}\n",
      "< 검증 데이터셋 >\n",
      "accuracy  :  0.6545\n",
      "precision :  0.6046\n",
      "recall    :  0.5027\n",
      "f1        :  0.5490\n",
      "roc_auc   :  0.7021\n",
      "\n",
      "================================================================================\n",
      "XGBClassifier 최적 하이퍼 파라미터: {'learning_rate': 0.05, 'max_depth': 4, 'n_estimators': 300}\n",
      "< 검증 데이터셋 >\n",
      "accuracy  :  0.7105\n",
      "precision :  0.6600\n",
      "recall    :  0.6350\n",
      "f1        :  0.6473\n",
      "roc_auc   :  0.7815\n",
      "\n",
      "================================================================================\n",
      "LGBMClassifier 최적 하이퍼 파라미터: {'learning_rate': 0.05, 'max_depth': 4, 'n_estimators': 300}\n",
      "< 검증 데이터셋 >\n",
      "accuracy  :  0.7093\n",
      "precision :  0.6593\n",
      "recall    :  0.6313\n",
      "f1        :  0.6450\n",
      "roc_auc   :  0.7806\n",
      "\n",
      "================================================================================\n"
     ]
    }
   ],
   "source": [
    "# 검증 데이터셋\n",
    "clf(dataset1)"
   ]
  },
  {
   "cell_type": "code",
   "execution_count": 9,
   "metadata": {
    "executionInfo": {
     "elapsed": 10,
     "status": "aborted",
     "timestamp": 1650733194680,
     "user": {
      "displayName": "조현정",
      "userId": "02569453026248958222"
     },
     "user_tz": -540
    },
    "id": "i9UcdvMEVBKQ"
   },
   "outputs": [
    {
     "data": {
      "text/html": [
       "\n",
       "                <audio  controls=\"controls\" autoplay=\"autoplay\">\n",
       "                    <source src=\"data:audio/mpeg;base64,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\" type=\"audio/mpeg\" />\n",
       "                    Your browser does not support the audio element.\n",
       "                </audio>\n",
       "              "
      ],
      "text/plain": [
       "<IPython.lib.display.Audio object>"
      ]
     },
     "metadata": {},
     "output_type": "display_data"
    }
   ],
   "source": [
    "speak('검증 데이터셋 완료')"
   ]
  },
  {
   "cell_type": "code",
   "execution_count": 10,
   "metadata": {
    "executionInfo": {
     "elapsed": 10,
     "status": "aborted",
     "timestamp": 1650733194680,
     "user": {
      "displayName": "조현정",
      "userId": "02569453026248958222"
     },
     "user_tz": -540
    },
    "id": "UBlA_kQrLrPO"
   },
   "outputs": [
    {
     "name": "stdout",
     "output_type": "stream",
     "text": [
      "DecisionTreeClassifier 최적 하이퍼 파라미터: {'max_depth': 5}\n",
      "< 검증 데이터셋 >\n",
      "accuracy  :  0.6930\n",
      "precision :  0.6345\n",
      "recall    :  0.6271\n",
      "f1        :  0.6308\n",
      "roc_auc   :  0.7559\n",
      "\n",
      "< 테스트 데이터셋 >\n",
      "accuracy  :  0.6839\n",
      "precision :  0.6808\n",
      "recall    :  0.6657\n",
      "f1        :  0.6732\n",
      "roc_auc   :  0.7394\n",
      "\n",
      "================================================================================\n",
      "RandomForestClassifier 최적 하이퍼 파라미터: {'max_depth': 11, 'n_estimators': 100}\n",
      "< 검증 데이터셋 >\n",
      "accuracy  :  0.7114\n",
      "precision :  0.6652\n",
      "recall    :  0.6242\n",
      "f1        :  0.6441\n",
      "roc_auc   :  0.7818\n",
      "\n",
      "< 테스트 데이터셋 >\n",
      "accuracy  :  0.6914\n",
      "precision :  0.6968\n",
      "recall    :  0.6534\n",
      "f1        :  0.6744\n",
      "roc_auc   :  0.7594\n",
      "\n",
      "================================================================================\n",
      "LogisticRegression 최적 하이퍼 파라미터: {'C': 1, 'penalty': 'l2'}\n",
      "< 검증 데이터셋 >\n",
      "accuracy  :  0.6545\n",
      "precision :  0.6046\n",
      "recall    :  0.5027\n",
      "f1        :  0.5490\n",
      "roc_auc   :  0.7021\n",
      "\n",
      "< 테스트 데이터셋 >\n",
      "accuracy  :  0.6315\n",
      "precision :  0.6485\n",
      "recall    :  0.5381\n",
      "f1        :  0.5882\n",
      "roc_auc   :  0.6905\n",
      "\n",
      "================================================================================\n",
      "XGBClassifier 최적 하이퍼 파라미터: {'learning_rate': 0.05, 'max_depth': 4, 'n_estimators': 300}\n",
      "< 검증 데이터셋 >\n",
      "accuracy  :  0.7105\n",
      "precision :  0.6600\n",
      "recall    :  0.6350\n",
      "f1        :  0.6473\n",
      "roc_auc   :  0.7815\n",
      "\n",
      "< 테스트 데이터셋 >\n",
      "accuracy  :  0.6901\n",
      "precision :  0.6896\n",
      "recall    :  0.6661\n",
      "f1        :  0.6776\n",
      "roc_auc   :  0.7592\n",
      "\n",
      "================================================================================\n",
      "LGBMClassifier 최적 하이퍼 파라미터: {'learning_rate': 0.05, 'max_depth': 4, 'n_estimators': 300}\n",
      "< 검증 데이터셋 >\n",
      "accuracy  :  0.7093\n",
      "precision :  0.6593\n",
      "recall    :  0.6313\n",
      "f1        :  0.6450\n",
      "roc_auc   :  0.7806\n",
      "\n",
      "< 테스트 데이터셋 >\n",
      "accuracy  :  0.6900\n",
      "precision :  0.6886\n",
      "recall    :  0.6685\n",
      "f1        :  0.6784\n",
      "roc_auc   :  0.7593\n",
      "\n",
      "================================================================================\n"
     ]
    }
   ],
   "source": [
    "# 테스트 데이터셋\n",
    "clf(dataset1, dataset2)"
   ]
  },
  {
   "cell_type": "code",
   "execution_count": 11,
   "metadata": {
    "executionInfo": {
     "elapsed": 9,
     "status": "aborted",
     "timestamp": 1650733194680,
     "user": {
      "displayName": "조현정",
      "userId": "02569453026248958222"
     },
     "user_tz": -540
    },
    "id": "vQuYibNrVEtO"
   },
   "outputs": [
    {
     "data": {
      "text/html": [
       "\n",
       "                <audio  controls=\"controls\" autoplay=\"autoplay\">\n",
       "                    <source src=\"data:audio/mpeg;base64,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\" type=\"audio/mpeg\" />\n",
       "                    Your browser does not support the audio element.\n",
       "                </audio>\n",
       "              "
      ],
      "text/plain": [
       "<IPython.lib.display.Audio object>"
      ]
     },
     "metadata": {},
     "output_type": "display_data"
    }
   ],
   "source": [
    "speak('테스트 데이터셋 완료')"
   ]
  },
  {
   "cell_type": "markdown",
   "metadata": {},
   "source": [
    "# small dataset"
   ]
  },
  {
   "cell_type": "code",
   "execution_count": 12,
   "metadata": {},
   "outputs": [],
   "source": [
    "# 데이터셋 불러오기\n",
    "s_dataset1 = pd.read_csv('./small_dataset1.csv', index_col=0)\n",
    "s_dataset2 = pd.read_csv('./small_dataset2.csv', index_col=0)"
   ]
  },
  {
   "cell_type": "code",
   "execution_count": 16,
   "metadata": {},
   "outputs": [
    {
     "name": "stdout",
     "output_type": "stream",
     "text": [
      "DecisionTreeClassifier 최적 하이퍼 파라미터: {'max_depth': 3}\n",
      "< 검증 데이터셋 >\n",
      "accuracy  :  0.7175\n",
      "precision :  0.6678\n",
      "recall    :  0.6459\n",
      "f1        :  0.6567\n",
      "roc_auc   :  0.7705\n",
      "\n",
      "< 테스트 데이터셋 >\n",
      "accuracy  :  0.6982\n",
      "precision :  0.6991\n",
      "recall    :  0.6721\n",
      "f1        :  0.6854\n",
      "roc_auc   :  0.7577\n",
      "\n",
      "================================================================================\n",
      "RandomForestClassifier 최적 하이퍼 파라미터: {'max_depth': 11, 'n_estimators': 200}\n",
      "< 검증 데이터셋 >\n",
      "accuracy  :  0.7163\n",
      "precision :  0.6657\n",
      "recall    :  0.6463\n",
      "f1        :  0.6558\n",
      "roc_auc   :  0.7853\n",
      "\n",
      "< 테스트 데이터셋 >\n",
      "accuracy  :  0.6986\n",
      "precision :  0.6993\n",
      "recall    :  0.6734\n",
      "f1        :  0.6861\n",
      "roc_auc   :  0.7662\n",
      "\n",
      "================================================================================\n",
      "LogisticRegression 최적 하이퍼 파라미터: {'C': 1, 'penalty': 'l2'}\n",
      "< 검증 데이터셋 >\n",
      "accuracy  :  0.7140\n",
      "precision :  0.6707\n",
      "recall    :  0.6213\n",
      "f1        :  0.6451\n",
      "roc_auc   :  0.7759\n",
      "\n",
      "< 테스트 데이터셋 >\n",
      "accuracy  :  0.6876\n",
      "precision :  0.6964\n",
      "recall    :  0.6404\n",
      "f1        :  0.6672\n",
      "roc_auc   :  0.7571\n",
      "\n",
      "================================================================================\n",
      "XGBClassifier 최적 하이퍼 파라미터: {'learning_rate': 0.05, 'max_depth': 4, 'n_estimators': 300}\n",
      "< 검증 데이터셋 >\n",
      "accuracy  :  0.7104\n",
      "precision :  0.6565\n",
      "recall    :  0.6450\n",
      "f1        :  0.6507\n",
      "roc_auc   :  0.7840\n",
      "\n",
      "< 테스트 데이터셋 >\n",
      "accuracy  :  0.6954\n",
      "precision :  0.6949\n",
      "recall    :  0.6721\n",
      "f1        :  0.6834\n",
      "roc_auc   :  0.7657\n",
      "\n",
      "================================================================================\n",
      "LGBMClassifier 최적 하이퍼 파라미터: {'learning_rate': 0.05, 'max_depth': 4, 'n_estimators': 300}\n",
      "< 검증 데이터셋 >\n",
      "accuracy  :  0.7121\n",
      "precision :  0.6594\n",
      "recall    :  0.6446\n",
      "f1        :  0.6519\n",
      "roc_auc   :  0.7826\n",
      "\n",
      "< 테스트 데이터셋 >\n",
      "accuracy  :  0.6974\n",
      "precision :  0.6968\n",
      "recall    :  0.6750\n",
      "f1        :  0.6858\n",
      "roc_auc   :  0.7645\n",
      "\n",
      "================================================================================\n"
     ]
    },
    {
     "data": {
      "text/html": [
       "\n",
       "                <audio  controls=\"controls\" autoplay=\"autoplay\">\n",
       "                    <source src=\"data:audio/mpeg;base64,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\" type=\"audio/mpeg\" />\n",
       "                    Your browser does not support the audio element.\n",
       "                </audio>\n",
       "              "
      ],
      "text/plain": [
       "<IPython.lib.display.Audio object>"
      ]
     },
     "metadata": {},
     "output_type": "display_data"
    }
   ],
   "source": [
    "clf(s_dataset1, s_dataset2)\n",
    "speak('small dataset 완료')"
   ]
  },
  {
   "cell_type": "markdown",
   "metadata": {},
   "source": [
    "# sfm dataset"
   ]
  },
  {
   "cell_type": "code",
   "execution_count": 17,
   "metadata": {},
   "outputs": [],
   "source": [
    "# 데이터셋 불러오기\n",
    "sfm_dataset1 = pd.read_csv('./sfm_dataset1.csv', index_col=0)\n",
    "sfm_dataset2 = pd.read_csv('./sfm_dataset2.csv', index_col=0)"
   ]
  },
  {
   "cell_type": "code",
   "execution_count": 18,
   "metadata": {},
   "outputs": [
    {
     "name": "stdout",
     "output_type": "stream",
     "text": [
      "DecisionTreeClassifier 최적 하이퍼 파라미터: {'max_depth': 5}\n",
      "< 검증 데이터셋 >\n",
      "accuracy  :  0.6950\n",
      "precision :  0.6400\n",
      "recall    :  0.6192\n",
      "f1        :  0.6294\n",
      "roc_auc   :  0.7573\n",
      "\n",
      "< 테스트 데이터셋 >\n",
      "accuracy  :  0.6842\n",
      "precision :  0.6850\n",
      "recall    :  0.6559\n",
      "f1        :  0.6702\n",
      "roc_auc   :  0.7397\n",
      "\n",
      "================================================================================\n",
      "RandomForestClassifier 최적 하이퍼 파라미터: {'max_depth': 11, 'n_estimators': 300}\n",
      "< 검증 데이터셋 >\n",
      "accuracy  :  0.7104\n",
      "precision :  0.6613\n",
      "recall    :  0.6305\n",
      "f1        :  0.6455\n",
      "roc_auc   :  0.7823\n",
      "\n",
      "< 테스트 데이터셋 >\n",
      "accuracy  :  0.6949\n",
      "precision :  0.6977\n",
      "recall    :  0.6636\n",
      "f1        :  0.6802\n",
      "roc_auc   :  0.7612\n",
      "\n",
      "================================================================================\n",
      "LogisticRegression 최적 하이퍼 파라미터: {'C': 1, 'penalty': 'none'}\n",
      "< 검증 데이터셋 >\n",
      "accuracy  :  0.6277\n",
      "precision :  0.5981\n",
      "recall    :  0.3350\n",
      "f1        :  0.4294\n",
      "roc_auc   :  0.6751\n",
      "\n",
      "< 테스트 데이터셋 >\n",
      "accuracy  :  0.5877\n",
      "precision :  0.6486\n",
      "recall    :  0.3426\n",
      "f1        :  0.4484\n",
      "roc_auc   :  0.6601\n",
      "\n",
      "================================================================================\n",
      "XGBClassifier 최적 하이퍼 파라미터: {'learning_rate': 0.05, 'max_depth': 6, 'n_estimators': 300}\n",
      "< 검증 데이터셋 >\n",
      "accuracy  :  0.7107\n",
      "precision :  0.6619\n",
      "recall    :  0.6305\n",
      "f1        :  0.6458\n",
      "roc_auc   :  0.7745\n",
      "\n",
      "< 테스트 데이터셋 >\n",
      "accuracy  :  0.6886\n",
      "precision :  0.6896\n",
      "recall    :  0.6606\n",
      "f1        :  0.6748\n",
      "roc_auc   :  0.7561\n",
      "\n",
      "================================================================================\n",
      "LGBMClassifier 최적 하이퍼 파라미터: {'learning_rate': 0.05, 'max_depth': 4, 'n_estimators': 300}\n",
      "< 검증 데이터셋 >\n",
      "accuracy  :  0.7119\n",
      "precision :  0.6639\n",
      "recall    :  0.6305\n",
      "f1        :  0.6467\n",
      "roc_auc   :  0.7794\n",
      "\n",
      "< 테스트 데이터셋 >\n",
      "accuracy  :  0.6904\n",
      "precision :  0.6917\n",
      "recall    :  0.6619\n",
      "f1        :  0.6765\n",
      "roc_auc   :  0.7593\n",
      "\n",
      "================================================================================\n"
     ]
    },
    {
     "data": {
      "text/html": [
       "\n",
       "                <audio  controls=\"controls\" autoplay=\"autoplay\">\n",
       "                    <source src=\"data:audio/mpeg;base64,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\" type=\"audio/mpeg\" />\n",
       "                    Your browser does not support the audio element.\n",
       "                </audio>\n",
       "              "
      ],
      "text/plain": [
       "<IPython.lib.display.Audio object>"
      ]
     },
     "metadata": {},
     "output_type": "display_data"
    }
   ],
   "source": [
    "clf(sfm_dataset1, sfm_dataset2)\n",
    "speak('sfm dataset 완료')"
   ]
  },
  {
   "cell_type": "markdown",
   "metadata": {},
   "source": [
    "# 전진선택법 dataset"
   ]
  },
  {
   "cell_type": "code",
   "execution_count": 19,
   "metadata": {},
   "outputs": [],
   "source": [
    "# 데이터셋 불러오기\n",
    "f_dataset1 = pd.read_csv('./f_dataset1.csv', index_col=0)\n",
    "f_dataset2 = pd.read_csv('./f_dataset2.csv', index_col=0)"
   ]
  },
  {
   "cell_type": "code",
   "execution_count": 20,
   "metadata": {},
   "outputs": [
    {
     "name": "stdout",
     "output_type": "stream",
     "text": [
      "DecisionTreeClassifier 최적 하이퍼 파라미터: {'max_depth': 5}\n",
      "< 검증 데이터셋 >\n",
      "accuracy  :  0.6943\n",
      "precision :  0.6410\n",
      "recall    :  0.6122\n",
      "f1        :  0.6262\n",
      "roc_auc   :  0.7573\n",
      "\n",
      "< 테스트 데이터셋 >\n",
      "accuracy  :  0.6819\n",
      "precision :  0.6852\n",
      "recall    :  0.6465\n",
      "f1        :  0.6653\n",
      "roc_auc   :  0.7397\n",
      "\n",
      "================================================================================\n",
      "RandomForestClassifier 최적 하이퍼 파라미터: {'max_depth': 9, 'n_estimators': 300}\n",
      "< 검증 데이터셋 >\n",
      "accuracy  :  0.7109\n",
      "precision :  0.6645\n",
      "recall    :  0.6238\n",
      "f1        :  0.6435\n",
      "roc_auc   :  0.7820\n",
      "\n",
      "< 테스트 데이터셋 >\n",
      "accuracy  :  0.6952\n",
      "precision :  0.7007\n",
      "recall    :  0.6576\n",
      "f1        :  0.6785\n",
      "roc_auc   :  0.7618\n",
      "\n",
      "================================================================================\n",
      "LogisticRegression 최적 하이퍼 파라미터: {'C': 1, 'penalty': 'none'}\n",
      "< 검증 데이터셋 >\n",
      "accuracy  :  0.6073\n",
      "precision :  0.5632\n",
      "recall    :  0.2726\n",
      "f1        :  0.3674\n",
      "roc_auc   :  0.6422\n",
      "\n",
      "< 테스트 데이터셋 >\n",
      "accuracy  :  0.5628\n",
      "precision :  0.6170\n",
      "recall    :  0.2793\n",
      "f1        :  0.3845\n",
      "roc_auc   :  0.6268\n",
      "\n",
      "================================================================================\n",
      "XGBClassifier 최적 하이퍼 파라미터: {'learning_rate': 0.05, 'max_depth': 4, 'n_estimators': 300}\n",
      "< 검증 데이터셋 >\n",
      "accuracy  :  0.7081\n",
      "precision :  0.6570\n",
      "recall    :  0.6321\n",
      "f1        :  0.6443\n",
      "roc_auc   :  0.7787\n",
      "\n",
      "< 테스트 데이터셋 >\n",
      "accuracy  :  0.6906\n",
      "precision :  0.6925\n",
      "recall    :  0.6608\n",
      "f1        :  0.6763\n",
      "roc_auc   :  0.7606\n",
      "\n",
      "================================================================================\n",
      "LGBMClassifier 최적 하이퍼 파라미터: {'learning_rate': 0.05, 'max_depth': 4, 'n_estimators': 300}\n",
      "< 검증 데이터셋 >\n",
      "accuracy  :  0.7069\n",
      "precision :  0.6553\n",
      "recall    :  0.6313\n",
      "f1        :  0.6431\n",
      "roc_auc   :  0.7801\n",
      "\n",
      "< 테스트 데이터셋 >\n",
      "accuracy  :  0.6899\n",
      "precision :  0.6912\n",
      "recall    :  0.6615\n",
      "f1        :  0.6760\n",
      "roc_auc   :  0.7596\n",
      "\n",
      "================================================================================\n"
     ]
    },
    {
     "data": {
      "text/html": [
       "\n",
       "                <audio  controls=\"controls\" autoplay=\"autoplay\">\n",
       "                    <source src=\"data:audio/mpeg;base64,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\" type=\"audio/mpeg\" />\n",
       "                    Your browser does not support the audio element.\n",
       "                </audio>\n",
       "              "
      ],
      "text/plain": [
       "<IPython.lib.display.Audio object>"
      ]
     },
     "metadata": {},
     "output_type": "display_data"
    }
   ],
   "source": [
    "clf(f_dataset1, f_dataset2)\n",
    "speak('f dataset 완료')"
   ]
  },
  {
   "cell_type": "markdown",
   "metadata": {},
   "source": [
    "# 후진선택법 dataset"
   ]
  },
  {
   "cell_type": "code",
   "execution_count": 21,
   "metadata": {},
   "outputs": [],
   "source": [
    "# 데이터셋 불러오기\n",
    "b_dataset1 = pd.read_csv('./b_dataset1.csv', index_col=0)\n",
    "b_dataset2 = pd.read_csv('./b_dataset2.csv', index_col=0)"
   ]
  },
  {
   "cell_type": "code",
   "execution_count": 22,
   "metadata": {
    "scrolled": false
   },
   "outputs": [
    {
     "name": "stdout",
     "output_type": "stream",
     "text": [
      "DecisionTreeClassifier 최적 하이퍼 파라미터: {'max_depth': 5}\n",
      "< 검증 데이터셋 >\n",
      "accuracy  :  0.6982\n",
      "precision :  0.6450\n",
      "recall    :  0.6192\n",
      "f1        :  0.6318\n",
      "roc_auc   :  0.7566\n",
      "\n",
      "< 테스트 데이터셋 >\n",
      "accuracy  :  0.6875\n",
      "precision :  0.6915\n",
      "recall    :  0.6519\n",
      "f1        :  0.6711\n",
      "roc_auc   :  0.7400\n",
      "\n",
      "================================================================================\n",
      "RandomForestClassifier 최적 하이퍼 파라미터: {'max_depth': 9, 'n_estimators': 200}\n",
      "< 검증 데이터셋 >\n",
      "accuracy  :  0.7138\n",
      "precision :  0.6677\n",
      "recall    :  0.6288\n",
      "f1        :  0.6477\n",
      "roc_auc   :  0.7818\n",
      "\n",
      "< 테스트 데이터셋 >\n",
      "accuracy  :  0.6910\n",
      "precision :  0.6945\n",
      "recall    :  0.6575\n",
      "f1        :  0.6755\n",
      "roc_auc   :  0.7605\n",
      "\n",
      "================================================================================\n",
      "LogisticRegression 최적 하이퍼 파라미터: {'C': 1000, 'penalty': 'l2'}\n",
      "< 검증 데이터셋 >\n",
      "accuracy  :  0.6228\n",
      "precision :  0.5851\n",
      "recall    :  0.3375\n",
      "f1        :  0.4281\n",
      "roc_auc   :  0.6553\n",
      "\n",
      "< 테스트 데이터셋 >\n",
      "accuracy  :  0.5770\n",
      "precision :  0.6254\n",
      "recall    :  0.3366\n",
      "f1        :  0.4377\n",
      "roc_auc   :  0.6398\n",
      "\n",
      "================================================================================\n",
      "XGBClassifier 최적 하이퍼 파라미터: {'learning_rate': 0.05, 'max_depth': 4, 'n_estimators': 300}\n",
      "< 검증 데이터셋 >\n",
      "accuracy  :  0.7044\n",
      "precision :  0.6552\n",
      "recall    :  0.6192\n",
      "f1        :  0.6367\n",
      "roc_auc   :  0.7781\n",
      "\n",
      "< 테스트 데이터셋 >\n",
      "accuracy  :  0.6899\n",
      "precision :  0.6926\n",
      "recall    :  0.6578\n",
      "f1        :  0.6748\n",
      "roc_auc   :  0.7595\n",
      "\n",
      "================================================================================\n",
      "LGBMClassifier 최적 하이퍼 파라미터: {'learning_rate': 0.05, 'max_depth': 4, 'n_estimators': 300}\n",
      "< 검증 데이터셋 >\n",
      "accuracy  :  0.7069\n",
      "precision :  0.6584\n",
      "recall    :  0.6217\n",
      "f1        :  0.6396\n",
      "roc_auc   :  0.7792\n",
      "\n",
      "< 테스트 데이터셋 >\n",
      "accuracy  :  0.6884\n",
      "precision :  0.6905\n",
      "recall    :  0.6575\n",
      "f1        :  0.6736\n",
      "roc_auc   :  0.7584\n",
      "\n",
      "================================================================================\n"
     ]
    },
    {
     "data": {
      "text/html": [
       "\n",
       "                <audio  controls=\"controls\" autoplay=\"autoplay\">\n",
       "                    <source src=\"data:audio/mpeg;base64,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\" type=\"audio/mpeg\" />\n",
       "                    Your browser does not support the audio element.\n",
       "                </audio>\n",
       "              "
      ],
      "text/plain": [
       "<IPython.lib.display.Audio object>"
      ]
     },
     "metadata": {},
     "output_type": "display_data"
    }
   ],
   "source": [
    "clf(b_dataset1, b_dataset2)\n",
    "speak('b dataset 완료')"
   ]
  },
  {
   "cell_type": "markdown",
   "metadata": {},
   "source": [
    "# <font color='green'>변수 중요도(XGB)</font>"
   ]
  },
  {
   "cell_type": "code",
   "execution_count": null,
   "metadata": {
    "id": "uHJZq11fLfTI"
   },
   "outputs": [],
   "source": [
    "# # 변수 중요도(XGB)\n",
    "# import matplotlib.pyplot as plt\n",
    "# %matplotlib inline\n",
    "\n",
    "# xgb_clf = XGBClassifier(learning_rate=0.05, max_depth=4, n_estimators=300)\n",
    "# xgb_clf.fit(X_train, y_train)\n",
    "# fig, ax = plt.subplots(1,1,figsize=(10,8))\n",
    "# plot_importance(xgb_clf, ax=ax, max_num_features=20, height=0.4)"
   ]
  }
 ],
 "metadata": {
  "colab": {
   "authorship_tag": "ABX9TyO1nlRU6abY0lNOi+Teu4hW",
   "collapsed_sections": [],
   "name": "3_machine_learning(classification).ipynb",
   "provenance": []
  },
  "kernelspec": {
   "display_name": "Python 3",
   "language": "python",
   "name": "python3"
  },
  "language_info": {
   "codemirror_mode": {
    "name": "ipython",
    "version": 3
   },
   "file_extension": ".py",
   "mimetype": "text/x-python",
   "name": "python",
   "nbconvert_exporter": "python",
   "pygments_lexer": "ipython3",
   "version": "3.8.3"
  }
 },
 "nbformat": 4,
 "nbformat_minor": 1
}
